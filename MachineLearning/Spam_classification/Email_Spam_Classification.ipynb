{
  "nbformat": 4,
  "nbformat_minor": 0,
  "metadata": {
    "colab": {
      "provenance": [],
      "collapsed_sections": [
        "CaPQlW0tKLrN"
      ],
      "mount_file_id": "1MLsObO-yq33qNUZ7treu2MdoQ30WJ4j4",
      "authorship_tag": "ABX9TyOGx1iEeyTleECOgCLR/Vlj",
      "include_colab_link": true
    },
    "kernelspec": {
      "name": "python3",
      "display_name": "Python 3"
    },
    "language_info": {
      "name": "python"
    }
  },
  "cells": [
    {
      "cell_type": "markdown",
      "metadata": {
        "id": "view-in-github",
        "colab_type": "text"
      },
      "source": [
        "<a href=\"https://colab.research.google.com/github/AngusYeh/Machinelearning/blob/main/Email_Spam_Classification.ipynb\" target=\"_parent\"><img src=\"https://colab.research.google.com/assets/colab-badge.svg\" alt=\"Open In Colab\"/></a>"
      ]
    },
    {
      "cell_type": "code",
      "execution_count": 1,
      "metadata": {
        "id": "jyDghRp11xMn"
      },
      "outputs": [],
      "source": [
        "import pandas as pd\n",
        "import matplotlib.pyplot as plt\n",
        "import seaborn as sns\n",
        "import numpy as np"
      ]
    },
    {
      "cell_type": "code",
      "source": [
        "df = pd.read_csv('/content/drive/MyDrive/Colab Notebooks/emails.csv')"
      ],
      "metadata": {
        "id": "IgmMFz6f2aUX"
      },
      "execution_count": 2,
      "outputs": []
    },
    {
      "cell_type": "code",
      "source": [
        "df.shape"
      ],
      "metadata": {
        "colab": {
          "base_uri": "https://localhost:8080/"
        },
        "id": "-oH_gaR2Pvlp",
        "outputId": "40c135a5-8f91-411e-8e2d-684b966f748f"
      },
      "execution_count": 3,
      "outputs": [
        {
          "output_type": "execute_result",
          "data": {
            "text/plain": [
              "(5172, 3002)"
            ]
          },
          "metadata": {},
          "execution_count": 3
        }
      ]
    },
    {
      "cell_type": "code",
      "source": [
        "df1 = df[(df['the']<df['the'].quantile(0.999)) & (df['the']>df['the'].quantile(0.001))]"
      ],
      "metadata": {
        "id": "lXszgWs58yow"
      },
      "execution_count": 4,
      "outputs": []
    },
    {
      "cell_type": "code",
      "source": [
        "df1.shape"
      ],
      "metadata": {
        "colab": {
          "base_uri": "https://localhost:8080/"
        },
        "id": "Q4LivYUpPKOA",
        "outputId": "690ebbc8-99ee-442e-fb33-493351a65b0b"
      },
      "execution_count": 5,
      "outputs": [
        {
          "output_type": "execute_result",
          "data": {
            "text/plain": [
              "(3843, 3002)"
            ]
          },
          "metadata": {},
          "execution_count": 5
        }
      ]
    },
    {
      "cell_type": "code",
      "source": [
        "X = df.drop(['Email No.','Prediction'],axis = 1)"
      ],
      "metadata": {
        "id": "ISF0bBX_cE0j"
      },
      "execution_count": 6,
      "outputs": []
    },
    {
      "cell_type": "code",
      "source": [
        "y = df['Prediction']"
      ],
      "metadata": {
        "id": "KslQWzkWfaoc"
      },
      "execution_count": 7,
      "outputs": []
    },
    {
      "cell_type": "code",
      "source": [
        "sns.countplot(y)\n",
        "#plt.text()"
      ],
      "metadata": {
        "colab": {
          "base_uri": "https://localhost:8080/",
          "height": 351
        },
        "id": "cwLjkLZEgERa",
        "outputId": "3c2e56c8-8aab-430a-8308-622ffeb911cd"
      },
      "execution_count": 8,
      "outputs": [
        {
          "output_type": "stream",
          "name": "stderr",
          "text": [
            "/usr/local/lib/python3.7/dist-packages/seaborn/_decorators.py:43: FutureWarning: Pass the following variable as a keyword arg: x. From version 0.12, the only valid positional argument will be `data`, and passing other arguments without an explicit keyword will result in an error or misinterpretation.\n",
            "  FutureWarning\n"
          ]
        },
        {
          "output_type": "execute_result",
          "data": {
            "text/plain": [
              "<matplotlib.axes._subplots.AxesSubplot at 0x7f37414fc7d0>"
            ]
          },
          "metadata": {},
          "execution_count": 8
        },
        {
          "output_type": "display_data",
          "data": {
            "text/plain": [
              "<Figure size 432x288 with 1 Axes>"
            ],
            "image/png": "[encoded data removed]"
          },
          "metadata": {
            "needs_background": "light"
          }
        }
      ]
    },
    {
      "cell_type": "markdown",
      "source": [
        "## feature 若太多 本例有多達3000個，可以用主成分分析PCA篩選過多的因素"
      ],
      "metadata": {
        "id": "rnTo0kT6ojep"
      }
    },
    {
      "cell_type": "code",
      "source": [
        "from sklearn.decomposition import PCA"
      ],
      "metadata": {
        "id": "JbL26biMokKk"
      },
      "execution_count": 9,
      "outputs": []
    },
    {
      "cell_type": "code",
      "source": [
        "# 只取10個做測試\n",
        "pca = PCA(n_components=10)\n",
        "X_new = pca.fit_transform(X)"
      ],
      "metadata": {
        "id": "XKzvMyVkpohQ"
      },
      "execution_count": 10,
      "outputs": []
    },
    {
      "cell_type": "code",
      "source": [
        "X_new.shape"
      ],
      "metadata": {
        "colab": {
          "base_uri": "https://localhost:8080/"
        },
        "id": "EMichR1h7vzH",
        "outputId": "de9e7378-49a1-4090-d259-c90a12ed5a22"
      },
      "execution_count": 11,
      "outputs": [
        {
          "output_type": "execute_result",
          "data": {
            "text/plain": [
              "(5172, 10)"
            ]
          },
          "metadata": {},
          "execution_count": 11
        }
      ]
    },
    {
      "cell_type": "code",
      "source": [
        "# 查看PCA後剩下的成分\n",
        "a = pca.feature_names_in_\n",
        "b = pca.explained_variance_ratio_\n",
        "for i,j in zip(a,b):\n",
        "  print('feature_name:',i,'ratio:',j)"
      ],
      "metadata": {
        "colab": {
          "base_uri": "https://localhost:8080/"
        },
        "id": "TeB_nk3z-uzm",
        "outputId": "eab77e7f-f03b-48a6-e04e-5a2356e088ed"
      },
      "execution_count": 12,
      "outputs": [
        {
          "output_type": "stream",
          "name": "stdout",
          "text": [
            "feature_name: the ratio: 0.9280330632324068\n",
            "feature_name: to ratio: 0.01342010299521109\n",
            "feature_name: ect ratio: 0.010852404564160789\n",
            "feature_name: and ratio: 0.006622037378798167\n",
            "feature_name: for ratio: 0.004859405973813999\n",
            "feature_name: of ratio: 0.003956526014229872\n",
            "feature_name: a ratio: 0.002633254758384831\n",
            "feature_name: you ratio: 0.002324279084921709\n",
            "feature_name: hou ratio: 0.0020531233061720925\n",
            "feature_name: in ratio: 0.0019360328827671342\n"
          ]
        }
      ]
    },
    {
      "cell_type": "markdown",
      "source": [
        "#　將資料切割訓練與測試資料ｓｅｔ"
      ],
      "metadata": {
        "id": "1BCRuVpQBSiZ"
      }
    },
    {
      "cell_type": "code",
      "source": [
        "from sklearn.model_selection import train_test_split,ShuffleSplit"
      ],
      "metadata": {
        "id": "KLghAuUSBSyn"
      },
      "execution_count": 13,
      "outputs": []
    },
    {
      "cell_type": "code",
      "source": [
        "X_train, X_test, y_train, y_test = train_test_split(X_new,y,test_size=0.2,random_state=42)"
      ],
      "metadata": {
        "id": "rBTpG581BS9Z"
      },
      "execution_count": 14,
      "outputs": []
    },
    {
      "cell_type": "code",
      "source": [
        "cv = ShuffleSplit(n_splits=5,test_size=0.2,random_state=42)\n",
        "n = cv.split(X_new)"
      ],
      "metadata": {
        "id": "hZfjTyzf2ohu"
      },
      "execution_count": 15,
      "outputs": []
    },
    {
      "cell_type": "code",
      "source": [
        "shuff = cross_val_score(LogisticRegression(max_iter=1000),X_new,y,cv=cv)\n",
        "shuff"
      ],
      "metadata": {
        "id": "rqPtbJJk22Vv",
        "colab": {
          "base_uri": "https://localhost:8080/"
        },
        "outputId": "ea56a0a7-129a-4208-bd4e-4263370ed2e0"
      },
      "execution_count": 22,
      "outputs": [
        {
          "output_type": "execute_result",
          "data": {
            "text/plain": [
              "array([0.81352657, 0.79323671, 0.77584541, 0.79806763, 0.78067633])"
            ]
          },
          "metadata": {},
          "execution_count": 22
        }
      ]
    },
    {
      "cell_type": "markdown",
      "source": [
        "# 建構模型"
      ],
      "metadata": {
        "id": "7fSna-FFk9A9"
      }
    },
    {
      "cell_type": "code",
      "source": [
        "from sklearn.linear_model import LogisticRegression\n",
        "from sklearn.tree import DecisionTreeClassifier\n",
        "from sklearn.ensemble import RandomForestClassifier,VotingClassifier,BaggingClassifier\n",
        "from sklearn.svm import SVC\n",
        "from sklearn.naive_bayes import GaussianNB,MultinomialNB\n",
        "from xgboost import XGBClassifier"
      ],
      "metadata": {
        "id": "pRZrHucVk9Sf"
      },
      "execution_count": 20,
      "outputs": []
    },
    {
      "cell_type": "code",
      "source": [
        "# 建構模型種類\n",
        "model ={\n",
        "    \"logistic\":LogisticRegression(max_iter=1000),\n",
        "    \"Decision\":DecisionTreeClassifier(),\n",
        "    #\"SVC\":SVC(),\n",
        "    \"RFC\":RandomForestClassifier(),\n",
        "    \"NB\":GaussianNB()\n",
        "}\n",
        "\n",
        "#評估標準\n",
        "scores =[\"accuracy\",\"precision\",\"recall\"]"
      ],
      "metadata": {
        "id": "qhSY41g7Pr9B"
      },
      "execution_count": 26,
      "outputs": []
    },
    {
      "cell_type": "code",
      "source": [
        "#檢測訓練品質\n",
        "from sklearn.metrics import accuracy_score,confusion_matrix,classification_report,f1_score\n",
        "from sklearn.metrics import precision_score,recall_score,f1_score,plot_precision_recall_curve,precision_recall_curve,make_scorer\n",
        "from sklearn.model_selection import cross_val_score,cross_val_predict#交叉驗證"
      ],
      "metadata": {
        "id": "dZzuKPhrk-HU"
      },
      "execution_count": 18,
      "outputs": []
    },
    {
      "cell_type": "markdown",
      "source": [
        "lg = LogisticRegression()\n",
        "DS = DecisionTreeClassifier()\n",
        "NB = GaussianNB()\n",
        "vote = VotingClassifier(estimators=[\n",
        "    ('1',lg),('2',DS),('3',NB)],\n",
        "    voting = 'soft'\n",
        ")"
      ],
      "metadata": {
        "id": "70vcnsh_mxxX"
      }
    },
    {
      "cell_type": "markdown",
      "source": [
        "vote.fit(X_train,y_train)"
      ],
      "metadata": {
        "id": "e_jik71woeKL"
      }
    },
    {
      "cell_type": "markdown",
      "source": [
        "pre = vote.predict_proba(X_test)\n",
        "pre"
      ],
      "metadata": {
        "id": "UpTL0m4Sojk1"
      }
    },
    {
      "cell_type": "code",
      "source": [
        "import prettytable as pt"
      ],
      "metadata": {
        "id": "rDPRmTB8W5yn"
      },
      "execution_count": 23,
      "outputs": []
    },
    {
      "cell_type": "code",
      "source": [
        "# 交叉驗證 訓練平均分數表現\n",
        "def cross_val_score_mean(est,score):\n",
        "  tb1 = pt.PrettyTable()\n",
        "  tb1.field_names=['model_name','accuracy_score','precision_score','recall_score'] \n",
        "  for model_name,model in est.items():\n",
        "    mata_data = {}\n",
        "    for s in score:\n",
        "      cvs = cross_val_score(model,X_train,y_train,cv=3,scoring = s)\n",
        "      mata_data[s]=cvs.mean()      \n",
        "    tb1.add_row([model_name,mata_data['accuracy'],mata_data['precision'],mata_data['recall']])\n",
        "  print(tb1)"
      ],
      "metadata": {
        "id": "gIIu6TeGCdbJ"
      },
      "execution_count": 30,
      "outputs": []
    },
    {
      "cell_type": "code",
      "source": [
        "cross_val_score_mean(model,scores)"
      ],
      "metadata": {
        "colab": {
          "base_uri": "https://localhost:8080/"
        },
        "id": "Z1DOmDdnQJnT",
        "outputId": "5c519d93-20df-4390-8c72-d22f680c323e"
      },
      "execution_count": 28,
      "outputs": [
        {
          "output_type": "stream",
          "name": "stdout",
          "text": [
            "+------------+--------------------+--------------------+---------------------+\n",
            "| model_name |   accuracy_score   |  precision_score   |     recall_score    |\n",
            "+------------+--------------------+--------------------+---------------------+\n",
            "|  logistic  | 0.7846265409717187 | 0.765625705341978  | 0.37458592325157253 |\n",
            "|  Decision  | 0.7855934251873338 | 0.6245666958788699 |  0.6220787169720806 |\n",
            "|    RFC     | 0.8365965675610344 | 0.7756660027264762 |  0.6129783336021473 |\n",
            "|     NB     | 0.7128353879622916 | 0.5206062589525409 | 0.17773352687931912 |\n",
            "+------------+--------------------+--------------------+---------------------+\n"
          ]
        }
      ]
    },
    {
      "cell_type": "code",
      "source": [
        "# prediction 與 y_test 資料各項分數比較\n",
        "tb2 = pt.PrettyTable()\n",
        "tb2.field_names = ['model_name','accuracy_score','precision_score','recall_score']\n",
        "\n",
        "def get_accuracy_recall_predision_score(est,X,Y,x,y):\n",
        "  for model_name,model_a in est.items():\n",
        "    pred = model_a.fit(X,Y).predict(x)\n",
        "    tb2.add_row([model_name,accuracy_score(y,pred),precision_score(y,pred),recall_score(y,pred)])\n",
        "  print(tb2)\n",
        "    #print(f\"{model_name}: {accuracy_score(y,pred)}, {precision_score(y,pred)}, \")"
      ],
      "metadata": {
        "id": "bjJugurwDTZv"
      },
      "execution_count": 31,
      "outputs": []
    },
    {
      "cell_type": "code",
      "source": [
        "get_accuracy_recall_predision_score(model,X_train,y_train,X_test,y_test)\n",
        "# 下表可以看出 Logistic 跟 隨機森林有較高acc的分數"
      ],
      "metadata": {
        "colab": {
          "base_uri": "https://localhost:8080/"
        },
        "id": "Js1QB5MGSHKk",
        "outputId": "020514d4-1ef3-4329-80fd-8649fc2818c2"
      },
      "execution_count": null,
      "outputs": [
        {
          "output_type": "stream",
          "name": "stdout",
          "text": [
            "+------------+--------------------+--------------------+---------------------+\n",
            "| model_name |   accuracy_score   |  precision_score   |     recall_score    |\n",
            "+------------+--------------------+--------------------+---------------------+\n",
            "|  logistic  | 0.8153446033810143 | 0.7637795275590551 | 0.46411483253588515 |\n",
            "|  Decision  | 0.776332899869961  | 0.5876777251184834 |  0.5933014354066986 |\n",
            "|    RFC     | 0.8556566970091027 | 0.8181818181818182 |  0.6028708133971292 |\n",
            "|     NB     | 0.7373211963589077 | 0.5507246376811594 | 0.18181818181818182 |\n",
            "+------------+--------------------+--------------------+---------------------+\n"
          ]
        }
      ]
    },
    {
      "cell_type": "markdown",
      "source": [
        "# 使用GRIDSearchCV 來測試超參數調整後的表現"
      ],
      "metadata": {
        "id": "UYyibJ1PKT1B"
      }
    },
    {
      "cell_type": "code",
      "source": [
        "from sklearn.model_selection import GridSearchCV\n",
        "from sklearn.linear_model import SGDClassifier"
      ],
      "metadata": {
        "id": "CGdrga2OFM4_"
      },
      "execution_count": 33,
      "outputs": []
    },
    {
      "cell_type": "code",
      "source": [
        "def compare_precision_recall_(est,X,y,sample_weight=None):\n",
        "  pred = est.predict(X)\n",
        "  precision = precision_score(y,pred)\n",
        "  recall = recall_score(y,pred)\n",
        "  return min(precision,recall)\n"
      ],
      "metadata": {
        "id": "n2HMezDfshco"
      },
      "execution_count": 34,
      "outputs": []
    },
    {
      "cell_type": "code",
      "source": [
        "grid = GridSearchCV(\n",
        "    estimator=LogisticRegression(max_iter=1000),\n",
        "    param_grid={\n",
        "        'class_weight':[{0:1,1:v} for v in np.linspace(1,15,20)]\n",
        "        \n",
        "    },\n",
        "    scoring = {'precision':make_scorer(precision_score),'recall':make_scorer(recall_score),'compare':(compare_precision_recall_)},\n",
        "    refit = 'compare',\n",
        "    cv = 3\n",
        ")"
      ],
      "metadata": {
        "id": "HsTYOto7Ka7w"
      },
      "execution_count": 35,
      "outputs": []
    },
    {
      "cell_type": "code",
      "source": [
        "grid_logist = grid.fit(X_train,y_train)"
      ],
      "metadata": {
        "id": "L8Ymfa4EpRU4"
      },
      "execution_count": 40,
      "outputs": []
    },
    {
      "cell_type": "code",
      "source": [
        "results = pd.DataFrame(grid_logist.cv_results_)\n",
        "results"
      ],
      "metadata": {
        "id": "vfPXixEdpgt1",
        "colab": {
          "base_uri": "https://localhost:8080/",
          "height": 1000
        },
        "outputId": "a8c6575a-cf26-4113-e71f-e3367af0170e"
      },
      "execution_count": 41,
      "outputs": [
        {
          "output_type": "execute_result",
          "data": {
            "text/plain": [
              "    mean_fit_time  std_fit_time  mean_score_time  std_score_time  \\\n",
              "0        0.043106      0.006862         0.004932        0.000014   \n",
              "1        0.042367      0.001151         0.004933        0.000006   \n",
              "2        0.039701      0.005561         0.005030        0.000053   \n",
              "3        0.037810      0.004465         0.004981        0.000039   \n",
              "4        0.042890      0.002381         0.004997        0.000022   \n",
              "5        0.046631      0.006827         0.004986        0.000041   \n",
              "6        0.039048      0.009986         0.005037        0.000027   \n",
              "7        0.044243      0.004483         0.004985        0.000143   \n",
              "8        0.044011      0.002454         0.004908        0.000015   \n",
              "9        0.118725      0.008180         0.006563        0.001539   \n",
              "10       0.145013      0.045204         0.010546        0.003147   \n",
              "11       0.098241      0.025233         0.007788        0.003914   \n",
              "12       0.048588      0.005739         0.004991        0.000142   \n",
              "13       0.042190      0.007453         0.004900        0.000039   \n",
              "14       0.050616      0.007034         0.007519        0.003570   \n",
              "15       0.047829      0.004793         0.004959        0.000009   \n",
              "16       0.051092      0.009142         0.004997        0.000017   \n",
              "17       0.049899      0.008990         0.005087        0.000046   \n",
              "18       0.158987      0.061420         0.008952        0.003555   \n",
              "19       0.224693      0.038120         0.014180        0.000890   \n",
              "\n",
              "               param_class_weight  \\\n",
              "0                  {0: 1, 1: 1.0}   \n",
              "1    {0: 1, 1: 1.736842105263158}   \n",
              "2    {0: 1, 1: 2.473684210526316}   \n",
              "3   {0: 1, 1: 3.2105263157894735}   \n",
              "4   {0: 1, 1: 3.9473684210526314}   \n",
              "5    {0: 1, 1: 4.684210526315789}   \n",
              "6    {0: 1, 1: 5.421052631578947}   \n",
              "7    {0: 1, 1: 6.157894736842105}   \n",
              "8    {0: 1, 1: 6.894736842105263}   \n",
              "9     {0: 1, 1: 7.63157894736842}   \n",
              "10   {0: 1, 1: 8.368421052631579}   \n",
              "11   {0: 1, 1: 9.105263157894736}   \n",
              "12   {0: 1, 1: 9.842105263157894}   \n",
              "13  {0: 1, 1: 10.578947368421051}   \n",
              "14   {0: 1, 1: 11.31578947368421}   \n",
              "15  {0: 1, 1: 12.052631578947368}   \n",
              "16  {0: 1, 1: 12.789473684210526}   \n",
              "17  {0: 1, 1: 13.526315789473683}   \n",
              "18   {0: 1, 1: 14.26315789473684}   \n",
              "19                {0: 1, 1: 15.0}   \n",
              "\n",
              "                                             params  split0_test_precision  \\\n",
              "0                  {'class_weight': {0: 1, 1: 1.0}}               0.773196   \n",
              "1    {'class_weight': {0: 1, 1: 1.736842105263158}}               0.662757   \n",
              "2    {'class_weight': {0: 1, 1: 2.473684210526316}}               0.550459   \n",
              "3   {'class_weight': {0: 1, 1: 3.2105263157894735}}               0.474898   \n",
              "4   {'class_weight': {0: 1, 1: 3.9473684210526314}}               0.447044   \n",
              "5    {'class_weight': {0: 1, 1: 4.684210526315789}}               0.424312   \n",
              "6    {'class_weight': {0: 1, 1: 5.421052631578947}}               0.411572   \n",
              "7    {'class_weight': {0: 1, 1: 6.157894736842105}}               0.402529   \n",
              "8    {'class_weight': {0: 1, 1: 6.894736842105263}}               0.394063   \n",
              "9     {'class_weight': {0: 1, 1: 7.63157894736842}}               0.389610   \n",
              "10   {'class_weight': {0: 1, 1: 8.368421052631579}}               0.385672   \n",
              "11   {'class_weight': {0: 1, 1: 9.105263157894736}}               0.381044   \n",
              "12   {'class_weight': {0: 1, 1: 9.842105263157894}}               0.378223   \n",
              "13  {'class_weight': {0: 1, 1: 10.578947368421051}}               0.376303   \n",
              "14   {'class_weight': {0: 1, 1: 11.31578947368421}}               0.376181   \n",
              "15  {'class_weight': {0: 1, 1: 12.052631578947368}}               0.374648   \n",
              "16  {'class_weight': {0: 1, 1: 12.789473684210526}}               0.372549   \n",
              "17  {'class_weight': {0: 1, 1: 13.526315789473683}}               0.370474   \n",
              "18   {'class_weight': {0: 1, 1: 14.26315789473684}}               0.368421   \n",
              "19                {'class_weight': {0: 1, 1: 15.0}}               0.367065   \n",
              "\n",
              "    split1_test_precision  split2_test_precision  mean_test_precision  ...  \\\n",
              "0                0.755208               0.768473             0.765626  ...   \n",
              "1                0.645833               0.673469             0.660686  ...   \n",
              "2                0.548983               0.550285             0.549909  ...   \n",
              "3                0.475207               0.489451             0.479852  ...   \n",
              "4                0.436536               0.458281             0.447287  ...   \n",
              "5                0.421875               0.431193             0.425793  ...   \n",
              "6                0.408946               0.419142             0.413220  ...   \n",
              "7                0.400831               0.410448             0.404602  ...   \n",
              "8                0.394280               0.400415             0.396253  ...   \n",
              "9                0.385913               0.394523             0.390015  ...   \n",
              "10               0.379883               0.388668             0.384741  ...   \n",
              "11               0.377649               0.382958             0.380551  ...   \n",
              "12               0.374643               0.379710             0.377525  ...   \n",
              "13               0.370998               0.375717             0.374339  ...   \n",
              "14               0.368814               0.371456             0.372150  ...   \n",
              "15               0.365741               0.369708             0.370032  ...   \n",
              "16               0.364391               0.367537             0.368159  ...   \n",
              "17               0.364890               0.366327             0.367230  ...   \n",
              "18               0.362557               0.363971             0.364983  ...   \n",
              "19               0.361566               0.363636             0.364089  ...   \n",
              "\n",
              "    split2_test_recall  mean_test_recall  std_test_recall  rank_test_recall  \\\n",
              "0             0.389027          0.374586         0.011246                20   \n",
              "1             0.576060          0.559799         0.014353                19   \n",
              "2             0.723192          0.736703         0.009825                18   \n",
              "3             0.867830          0.866275         0.004345                17   \n",
              "4             0.917706          0.912799         0.006939                16   \n",
              "5             0.937656          0.933566         0.009531                15   \n",
              "6             0.950125          0.948514         0.008161                14   \n",
              "7             0.960100          0.957647         0.005330                13   \n",
              "8             0.962594          0.960966         0.002301                12   \n",
              "9             0.970075          0.970100         0.000035                11   \n",
              "10            0.975062          0.974250         0.003130                10   \n",
              "11            0.975062          0.977573         0.002056                 9   \n",
              "12            0.980050          0.981725         0.002369                 8   \n",
              "13            0.980050          0.983385         0.003124                 7   \n",
              "14            0.980050          0.985046         0.004082                 6   \n",
              "15            0.980050          0.985875         0.005132                 5   \n",
              "16            0.982544          0.986706         0.004247                 4   \n",
              "17            0.987531          0.990031         0.002044                 1   \n",
              "18            0.987531          0.990031         0.002044                 1   \n",
              "19            0.987531          0.990031         0.002044                 1   \n",
              "\n",
              "    split0_test_compare  split1_test_compare  split2_test_compare  \\\n",
              "0              0.373134             0.361596             0.389027   \n",
              "1              0.562189             0.541147             0.576060   \n",
              "2              0.550459             0.548983             0.550285   \n",
              "3              0.474898             0.475207             0.489451   \n",
              "4              0.447044             0.436536             0.458281   \n",
              "5              0.424312             0.421875             0.431193   \n",
              "6              0.411572             0.408946             0.419142   \n",
              "7              0.402529             0.400831             0.410448   \n",
              "8              0.394063             0.394280             0.400415   \n",
              "9              0.389610             0.385913             0.394523   \n",
              "10             0.385672             0.379883             0.388668   \n",
              "11             0.381044             0.377649             0.382958   \n",
              "12             0.378223             0.374643             0.379710   \n",
              "13             0.376303             0.370998             0.375717   \n",
              "14             0.376181             0.368814             0.371456   \n",
              "15             0.374648             0.365741             0.369708   \n",
              "16             0.372549             0.364391             0.367537   \n",
              "17             0.370474             0.364890             0.366327   \n",
              "18             0.368421             0.362557             0.363971   \n",
              "19             0.367065             0.361566             0.363636   \n",
              "\n",
              "    mean_test_compare  std_test_compare  rank_test_compare  \n",
              "0            0.374586          0.011246                 13  \n",
              "1            0.559799          0.014353                  1  \n",
              "2            0.549909          0.000658                  2  \n",
              "3            0.479852          0.006789                  3  \n",
              "4            0.447287          0.008879                  4  \n",
              "5            0.425793          0.003945                  5  \n",
              "6            0.413220          0.004323                  6  \n",
              "7            0.404602          0.004191                  7  \n",
              "8            0.396253          0.002944                  8  \n",
              "9            0.390015          0.003527                  9  \n",
              "10           0.384741          0.003646                 10  \n",
              "11           0.380551          0.002195                 11  \n",
              "12           0.377525          0.002127                 12  \n",
              "13           0.374339          0.002375                 14  \n",
              "14           0.372150          0.003048                 15  \n",
              "15           0.370032          0.003644                 16  \n",
              "16           0.368159          0.003359                 17  \n",
              "17           0.367230          0.002367                 18  \n",
              "18           0.364983          0.002499                 19  \n",
              "19           0.364089          0.002268                 20  \n",
              "\n",
              "[20 rows x 24 columns]"
            ],
            "text/html": [
              "\n",
              "  <div id=\"df-68bac3f4-b14a-46bc-bf47-96b6e690964c\">\n",
              "    <div class=\"colab-df-container\">\n",
              "      <div>\n",
              "<style scoped>\n",
              "    .dataframe tbody tr th:only-of-type {\n",
              "        vertical-align: middle;\n",
              "    }\n",
              "\n",
              "    .dataframe tbody tr th {\n",
              "        vertical-align: top;\n",
              "    }\n",
              "\n",
              "    .dataframe thead th {\n",
              "        text-align: right;\n",
              "    }\n",
              "</style>\n",
              "<table border=\"1\" class=\"dataframe\">\n",
              "  <thead>\n",
              "    <tr style=\"text-align: right;\">\n",
              "      <th></th>\n",
              "      <th>mean_fit_time</th>\n",
              "      <th>std_fit_time</th>\n",
              "      <th>mean_score_time</th>\n",
              "      <th>std_score_time</th>\n",
              "      <th>param_class_weight</th>\n",
              "      <th>params</th>\n",
              "      <th>split0_test_precision</th>\n",
              "      <th>split1_test_precision</th>\n",
              "      <th>split2_test_precision</th>\n",
              "      <th>mean_test_precision</th>\n",
              "      <th>...</th>\n",
              "      <th>split2_test_recall</th>\n",
              "      <th>mean_test_recall</th>\n",
              "      <th>std_test_recall</th>\n",
              "      <th>rank_test_recall</th>\n",
              "      <th>split0_test_compare</th>\n",
              "      <th>split1_test_compare</th>\n",
              "      <th>split2_test_compare</th>\n",
              "      <th>mean_test_compare</th>\n",
              "      <th>std_test_compare</th>\n",
              "      <th>rank_test_compare</th>\n",
              "    </tr>\n",
              "  </thead>\n",
              "  <tbody>\n",
              "    <tr>\n",
              "      <th>0</th>\n",
              "      <td>0.043106</td>\n",
              "      <td>0.006862</td>\n",
              "      <td>0.004932</td>\n",
              "      <td>0.000014</td>\n",
              "      <td>{0: 1, 1: 1.0}</td>\n",
              "      <td>{'class_weight': {0: 1, 1: 1.0}}</td>\n",
              "      <td>0.773196</td>\n",
              "      <td>0.755208</td>\n",
              "      <td>0.768473</td>\n",
              "      <td>0.765626</td>\n",
              "      <td>...</td>\n",
              "      <td>0.389027</td>\n",
              "      <td>0.374586</td>\n",
              "      <td>0.011246</td>\n",
              "      <td>20</td>\n",
              "      <td>0.373134</td>\n",
              "      <td>0.361596</td>\n",
              "      <td>0.389027</td>\n",
              "      <td>0.374586</td>\n",
              "      <td>0.011246</td>\n",
              "      <td>13</td>\n",
              "    </tr>\n",
              "    <tr>\n",
              "      <th>1</th>\n",
              "      <td>0.042367</td>\n",
              "      <td>0.001151</td>\n",
              "      <td>0.004933</td>\n",
              "      <td>0.000006</td>\n",
              "      <td>{0: 1, 1: 1.736842105263158}</td>\n",
              "      <td>{'class_weight': {0: 1, 1: 1.736842105263158}}</td>\n",
              "      <td>0.662757</td>\n",
              "      <td>0.645833</td>\n",
              "      <td>0.673469</td>\n",
              "      <td>0.660686</td>\n",
              "      <td>...</td>\n",
              "      <td>0.576060</td>\n",
              "      <td>0.559799</td>\n",
              "      <td>0.014353</td>\n",
              "      <td>19</td>\n",
              "      <td>0.562189</td>\n",
              "      <td>0.541147</td>\n",
              "      <td>0.576060</td>\n",
              "      <td>0.559799</td>\n",
              "      <td>0.014353</td>\n",
              "      <td>1</td>\n",
              "    </tr>\n",
              "    <tr>\n",
              "      <th>2</th>\n",
              "      <td>0.039701</td>\n",
              "      <td>0.005561</td>\n",
              "      <td>0.005030</td>\n",
              "      <td>0.000053</td>\n",
              "      <td>{0: 1, 1: 2.473684210526316}</td>\n",
              "      <td>{'class_weight': {0: 1, 1: 2.473684210526316}}</td>\n",
              "      <td>0.550459</td>\n",
              "      <td>0.548983</td>\n",
              "      <td>0.550285</td>\n",
              "      <td>0.549909</td>\n",
              "      <td>...</td>\n",
              "      <td>0.723192</td>\n",
              "      <td>0.736703</td>\n",
              "      <td>0.009825</td>\n",
              "      <td>18</td>\n",
              "      <td>0.550459</td>\n",
              "      <td>0.548983</td>\n",
              "      <td>0.550285</td>\n",
              "      <td>0.549909</td>\n",
              "      <td>0.000658</td>\n",
              "      <td>2</td>\n",
              "    </tr>\n",
              "    <tr>\n",
              "      <th>3</th>\n",
              "      <td>0.037810</td>\n",
              "      <td>0.004465</td>\n",
              "      <td>0.004981</td>\n",
              "      <td>0.000039</td>\n",
              "      <td>{0: 1, 1: 3.2105263157894735}</td>\n",
              "      <td>{'class_weight': {0: 1, 1: 3.2105263157894735}}</td>\n",
              "      <td>0.474898</td>\n",
              "      <td>0.475207</td>\n",
              "      <td>0.489451</td>\n",
              "      <td>0.479852</td>\n",
              "      <td>...</td>\n",
              "      <td>0.867830</td>\n",
              "      <td>0.866275</td>\n",
              "      <td>0.004345</td>\n",
              "      <td>17</td>\n",
              "      <td>0.474898</td>\n",
              "      <td>0.475207</td>\n",
              "      <td>0.489451</td>\n",
              "      <td>0.479852</td>\n",
              "      <td>0.006789</td>\n",
              "      <td>3</td>\n",
              "    </tr>\n",
              "    <tr>\n",
              "      <th>4</th>\n",
              "      <td>0.042890</td>\n",
              "      <td>0.002381</td>\n",
              "      <td>0.004997</td>\n",
              "      <td>0.000022</td>\n",
              "      <td>{0: 1, 1: 3.9473684210526314}</td>\n",
              "      <td>{'class_weight': {0: 1, 1: 3.9473684210526314}}</td>\n",
              "      <td>0.447044</td>\n",
              "      <td>0.436536</td>\n",
              "      <td>0.458281</td>\n",
              "      <td>0.447287</td>\n",
              "      <td>...</td>\n",
              "      <td>0.917706</td>\n",
              "      <td>0.912799</td>\n",
              "      <td>0.006939</td>\n",
              "      <td>16</td>\n",
              "      <td>0.447044</td>\n",
              "      <td>0.436536</td>\n",
              "      <td>0.458281</td>\n",
              "      <td>0.447287</td>\n",
              "      <td>0.008879</td>\n",
              "      <td>4</td>\n",
              "    </tr>\n",
              "    <tr>\n",
              "      <th>5</th>\n",
              "      <td>0.046631</td>\n",
              "      <td>0.006827</td>\n",
              "      <td>0.004986</td>\n",
              "      <td>0.000041</td>\n",
              "      <td>{0: 1, 1: 4.684210526315789}</td>\n",
              "      <td>{'class_weight': {0: 1, 1: 4.684210526315789}}</td>\n",
              "      <td>0.424312</td>\n",
              "      <td>0.421875</td>\n",
              "      <td>0.431193</td>\n",
              "      <td>0.425793</td>\n",
              "      <td>...</td>\n",
              "      <td>0.937656</td>\n",
              "      <td>0.933566</td>\n",
              "      <td>0.009531</td>\n",
              "      <td>15</td>\n",
              "      <td>0.424312</td>\n",
              "      <td>0.421875</td>\n",
              "      <td>0.431193</td>\n",
              "      <td>0.425793</td>\n",
              "      <td>0.003945</td>\n",
              "      <td>5</td>\n",
              "    </tr>\n",
              "    <tr>\n",
              "      <th>6</th>\n",
              "      <td>0.039048</td>\n",
              "      <td>0.009986</td>\n",
              "      <td>0.005037</td>\n",
              "      <td>0.000027</td>\n",
              "      <td>{0: 1, 1: 5.421052631578947}</td>\n",
              "      <td>{'class_weight': {0: 1, 1: 5.421052631578947}}</td>\n",
              "      <td>0.411572</td>\n",
              "      <td>0.408946</td>\n",
              "      <td>0.419142</td>\n",
              "      <td>0.413220</td>\n",
              "      <td>...</td>\n",
              "      <td>0.950125</td>\n",
              "      <td>0.948514</td>\n",
              "      <td>0.008161</td>\n",
              "      <td>14</td>\n",
              "      <td>0.411572</td>\n",
              "      <td>0.408946</td>\n",
              "      <td>0.419142</td>\n",
              "      <td>0.413220</td>\n",
              "      <td>0.004323</td>\n",
              "      <td>6</td>\n",
              "    </tr>\n",
              "    <tr>\n",
              "      <th>7</th>\n",
              "      <td>0.044243</td>\n",
              "      <td>0.004483</td>\n",
              "      <td>0.004985</td>\n",
              "      <td>0.000143</td>\n",
              "      <td>{0: 1, 1: 6.157894736842105}</td>\n",
              "      <td>{'class_weight': {0: 1, 1: 6.157894736842105}}</td>\n",
              "      <td>0.402529</td>\n",
              "      <td>0.400831</td>\n",
              "      <td>0.410448</td>\n",
              "      <td>0.404602</td>\n",
              "      <td>...</td>\n",
              "      <td>0.960100</td>\n",
              "      <td>0.957647</td>\n",
              "      <td>0.005330</td>\n",
              "      <td>13</td>\n",
              "      <td>0.402529</td>\n",
              "      <td>0.400831</td>\n",
              "      <td>0.410448</td>\n",
              "      <td>0.404602</td>\n",
              "      <td>0.004191</td>\n",
              "      <td>7</td>\n",
              "    </tr>\n",
              "    <tr>\n",
              "      <th>8</th>\n",
              "      <td>0.044011</td>\n",
              "      <td>0.002454</td>\n",
              "      <td>0.004908</td>\n",
              "      <td>0.000015</td>\n",
              "      <td>{0: 1, 1: 6.894736842105263}</td>\n",
              "      <td>{'class_weight': {0: 1, 1: 6.894736842105263}}</td>\n",
              "      <td>0.394063</td>\n",
              "      <td>0.394280</td>\n",
              "      <td>0.400415</td>\n",
              "      <td>0.396253</td>\n",
              "      <td>...</td>\n",
              "      <td>0.962594</td>\n",
              "      <td>0.960966</td>\n",
              "      <td>0.002301</td>\n",
              "      <td>12</td>\n",
              "      <td>0.394063</td>\n",
              "      <td>0.394280</td>\n",
              "      <td>0.400415</td>\n",
              "      <td>0.396253</td>\n",
              "      <td>0.002944</td>\n",
              "      <td>8</td>\n",
              "    </tr>\n",
              "    <tr>\n",
              "      <th>9</th>\n",
              "      <td>0.118725</td>\n",
              "      <td>0.008180</td>\n",
              "      <td>0.006563</td>\n",
              "      <td>0.001539</td>\n",
              "      <td>{0: 1, 1: 7.63157894736842}</td>\n",
              "      <td>{'class_weight': {0: 1, 1: 7.63157894736842}}</td>\n",
              "      <td>0.389610</td>\n",
              "      <td>0.385913</td>\n",
              "      <td>0.394523</td>\n",
              "      <td>0.390015</td>\n",
              "      <td>...</td>\n",
              "      <td>0.970075</td>\n",
              "      <td>0.970100</td>\n",
              "      <td>0.000035</td>\n",
              "      <td>11</td>\n",
              "      <td>0.389610</td>\n",
              "      <td>0.385913</td>\n",
              "      <td>0.394523</td>\n",
              "      <td>0.390015</td>\n",
              "      <td>0.003527</td>\n",
              "      <td>9</td>\n",
              "    </tr>\n",
              "    <tr>\n",
              "      <th>10</th>\n",
              "      <td>0.145013</td>\n",
              "      <td>0.045204</td>\n",
              "      <td>0.010546</td>\n",
              "      <td>0.003147</td>\n",
              "      <td>{0: 1, 1: 8.368421052631579}</td>\n",
              "      <td>{'class_weight': {0: 1, 1: 8.368421052631579}}</td>\n",
              "      <td>0.385672</td>\n",
              "      <td>0.379883</td>\n",
              "      <td>0.388668</td>\n",
              "      <td>0.384741</td>\n",
              "      <td>...</td>\n",
              "      <td>0.975062</td>\n",
              "      <td>0.974250</td>\n",
              "      <td>0.003130</td>\n",
              "      <td>10</td>\n",
              "      <td>0.385672</td>\n",
              "      <td>0.379883</td>\n",
              "      <td>0.388668</td>\n",
              "      <td>0.384741</td>\n",
              "      <td>0.003646</td>\n",
              "      <td>10</td>\n",
              "    </tr>\n",
              "    <tr>\n",
              "      <th>11</th>\n",
              "      <td>0.098241</td>\n",
              "      <td>0.025233</td>\n",
              "      <td>0.007788</td>\n",
              "      <td>0.003914</td>\n",
              "      <td>{0: 1, 1: 9.105263157894736}</td>\n",
              "      <td>{'class_weight': {0: 1, 1: 9.105263157894736}}</td>\n",
              "      <td>0.381044</td>\n",
              "      <td>0.377649</td>\n",
              "      <td>0.382958</td>\n",
              "      <td>0.380551</td>\n",
              "      <td>...</td>\n",
              "      <td>0.975062</td>\n",
              "      <td>0.977573</td>\n",
              "      <td>0.002056</td>\n",
              "      <td>9</td>\n",
              "      <td>0.381044</td>\n",
              "      <td>0.377649</td>\n",
              "      <td>0.382958</td>\n",
              "      <td>0.380551</td>\n",
              "      <td>0.002195</td>\n",
              "      <td>11</td>\n",
              "    </tr>\n",
              "    <tr>\n",
              "      <th>12</th>\n",
              "      <td>0.048588</td>\n",
              "      <td>0.005739</td>\n",
              "      <td>0.004991</td>\n",
              "      <td>0.000142</td>\n",
              "      <td>{0: 1, 1: 9.842105263157894}</td>\n",
              "      <td>{'class_weight': {0: 1, 1: 9.842105263157894}}</td>\n",
              "      <td>0.378223</td>\n",
              "      <td>0.374643</td>\n",
              "      <td>0.379710</td>\n",
              "      <td>0.377525</td>\n",
              "      <td>...</td>\n",
              "      <td>0.980050</td>\n",
              "      <td>0.981725</td>\n",
              "      <td>0.002369</td>\n",
              "      <td>8</td>\n",
              "      <td>0.378223</td>\n",
              "      <td>0.374643</td>\n",
              "      <td>0.379710</td>\n",
              "      <td>0.377525</td>\n",
              "      <td>0.002127</td>\n",
              "      <td>12</td>\n",
              "    </tr>\n",
              "    <tr>\n",
              "      <th>13</th>\n",
              "      <td>0.042190</td>\n",
              "      <td>0.007453</td>\n",
              "      <td>0.004900</td>\n",
              "      <td>0.000039</td>\n",
              "      <td>{0: 1, 1: 10.578947368421051}</td>\n",
              "      <td>{'class_weight': {0: 1, 1: 10.578947368421051}}</td>\n",
              "      <td>0.376303</td>\n",
              "      <td>0.370998</td>\n",
              "      <td>0.375717</td>\n",
              "      <td>0.374339</td>\n",
              "      <td>...</td>\n",
              "      <td>0.980050</td>\n",
              "      <td>0.983385</td>\n",
              "      <td>0.003124</td>\n",
              "      <td>7</td>\n",
              "      <td>0.376303</td>\n",
              "      <td>0.370998</td>\n",
              "      <td>0.375717</td>\n",
              "      <td>0.374339</td>\n",
              "      <td>0.002375</td>\n",
              "      <td>14</td>\n",
              "    </tr>\n",
              "    <tr>\n",
              "      <th>14</th>\n",
              "      <td>0.050616</td>\n",
              "      <td>0.007034</td>\n",
              "      <td>0.007519</td>\n",
              "      <td>0.003570</td>\n",
              "      <td>{0: 1, 1: 11.31578947368421}</td>\n",
              "      <td>{'class_weight': {0: 1, 1: 11.31578947368421}}</td>\n",
              "      <td>0.376181</td>\n",
              "      <td>0.368814</td>\n",
              "      <td>0.371456</td>\n",
              "      <td>0.372150</td>\n",
              "      <td>...</td>\n",
              "      <td>0.980050</td>\n",
              "      <td>0.985046</td>\n",
              "      <td>0.004082</td>\n",
              "      <td>6</td>\n",
              "      <td>0.376181</td>\n",
              "      <td>0.368814</td>\n",
              "      <td>0.371456</td>\n",
              "      <td>0.372150</td>\n",
              "      <td>0.003048</td>\n",
              "      <td>15</td>\n",
              "    </tr>\n",
              "    <tr>\n",
              "      <th>15</th>\n",
              "      <td>0.047829</td>\n",
              "      <td>0.004793</td>\n",
              "      <td>0.004959</td>\n",
              "      <td>0.000009</td>\n",
              "      <td>{0: 1, 1: 12.052631578947368}</td>\n",
              "      <td>{'class_weight': {0: 1, 1: 12.052631578947368}}</td>\n",
              "      <td>0.374648</td>\n",
              "      <td>0.365741</td>\n",
              "      <td>0.369708</td>\n",
              "      <td>0.370032</td>\n",
              "      <td>...</td>\n",
              "      <td>0.980050</td>\n",
              "      <td>0.985875</td>\n",
              "      <td>0.005132</td>\n",
              "      <td>5</td>\n",
              "      <td>0.374648</td>\n",
              "      <td>0.365741</td>\n",
              "      <td>0.369708</td>\n",
              "      <td>0.370032</td>\n",
              "      <td>0.003644</td>\n",
              "      <td>16</td>\n",
              "    </tr>\n",
              "    <tr>\n",
              "      <th>16</th>\n",
              "      <td>0.051092</td>\n",
              "      <td>0.009142</td>\n",
              "      <td>0.004997</td>\n",
              "      <td>0.000017</td>\n",
              "      <td>{0: 1, 1: 12.789473684210526}</td>\n",
              "      <td>{'class_weight': {0: 1, 1: 12.789473684210526}}</td>\n",
              "      <td>0.372549</td>\n",
              "      <td>0.364391</td>\n",
              "      <td>0.367537</td>\n",
              "      <td>0.368159</td>\n",
              "      <td>...</td>\n",
              "      <td>0.982544</td>\n",
              "      <td>0.986706</td>\n",
              "      <td>0.004247</td>\n",
              "      <td>4</td>\n",
              "      <td>0.372549</td>\n",
              "      <td>0.364391</td>\n",
              "      <td>0.367537</td>\n",
              "      <td>0.368159</td>\n",
              "      <td>0.003359</td>\n",
              "      <td>17</td>\n",
              "    </tr>\n",
              "    <tr>\n",
              "      <th>17</th>\n",
              "      <td>0.049899</td>\n",
              "      <td>0.008990</td>\n",
              "      <td>0.005087</td>\n",
              "      <td>0.000046</td>\n",
              "      <td>{0: 1, 1: 13.526315789473683}</td>\n",
              "      <td>{'class_weight': {0: 1, 1: 13.526315789473683}}</td>\n",
              "      <td>0.370474</td>\n",
              "      <td>0.364890</td>\n",
              "      <td>0.366327</td>\n",
              "      <td>0.367230</td>\n",
              "      <td>...</td>\n",
              "      <td>0.987531</td>\n",
              "      <td>0.990031</td>\n",
              "      <td>0.002044</td>\n",
              "      <td>1</td>\n",
              "      <td>0.370474</td>\n",
              "      <td>0.364890</td>\n",
              "      <td>0.366327</td>\n",
              "      <td>0.367230</td>\n",
              "      <td>0.002367</td>\n",
              "      <td>18</td>\n",
              "    </tr>\n",
              "    <tr>\n",
              "      <th>18</th>\n",
              "      <td>0.158987</td>\n",
              "      <td>0.061420</td>\n",
              "      <td>0.008952</td>\n",
              "      <td>0.003555</td>\n",
              "      <td>{0: 1, 1: 14.26315789473684}</td>\n",
              "      <td>{'class_weight': {0: 1, 1: 14.26315789473684}}</td>\n",
              "      <td>0.368421</td>\n",
              "      <td>0.362557</td>\n",
              "      <td>0.363971</td>\n",
              "      <td>0.364983</td>\n",
              "      <td>...</td>\n",
              "      <td>0.987531</td>\n",
              "      <td>0.990031</td>\n",
              "      <td>0.002044</td>\n",
              "      <td>1</td>\n",
              "      <td>0.368421</td>\n",
              "      <td>0.362557</td>\n",
              "      <td>0.363971</td>\n",
              "      <td>0.364983</td>\n",
              "      <td>0.002499</td>\n",
              "      <td>19</td>\n",
              "    </tr>\n",
              "    <tr>\n",
              "      <th>19</th>\n",
              "      <td>0.224693</td>\n",
              "      <td>0.038120</td>\n",
              "      <td>0.014180</td>\n",
              "      <td>0.000890</td>\n",
              "      <td>{0: 1, 1: 15.0}</td>\n",
              "      <td>{'class_weight': {0: 1, 1: 15.0}}</td>\n",
              "      <td>0.367065</td>\n",
              "      <td>0.361566</td>\n",
              "      <td>0.363636</td>\n",
              "      <td>0.364089</td>\n",
              "      <td>...</td>\n",
              "      <td>0.987531</td>\n",
              "      <td>0.990031</td>\n",
              "      <td>0.002044</td>\n",
              "      <td>1</td>\n",
              "      <td>0.367065</td>\n",
              "      <td>0.361566</td>\n",
              "      <td>0.363636</td>\n",
              "      <td>0.364089</td>\n",
              "      <td>0.002268</td>\n",
              "      <td>20</td>\n",
              "    </tr>\n",
              "  </tbody>\n",
              "</table>\n",
              "<p>20 rows × 24 columns</p>\n",
              "</div>\n",
              "      <button class=\"colab-df-convert\" onclick=\"convertToInteractive('df-68bac3f4-b14a-46bc-bf47-96b6e690964c')\"\n",
              "              title=\"Convert this dataframe to an interactive table.\"\n",
              "              style=\"display:none;\">\n",
              "        \n",
              "  <svg xmlns=\"http://www.w3.org/2000/svg\" height=\"24px\"viewBox=\"0 0 24 24\"\n",
              "       width=\"24px\">\n",
              "    <path d=\"M0 0h24v24H0V0z\" fill=\"none\"/>\n",
              "    <path d=\"M18.56 5.44l.94 2.06.94-2.06 2.06-.94-2.06-.94-.94-2.06-.94 2.06-2.06.94zm-11 1L8.5 8.5l.94-2.06 2.06-.94-2.06-.94L8.5 2.5l-.94 2.06-2.06.94zm10 10l.94 2.06.94-2.06 2.06-.94-2.06-.94-.94-2.06-.94 2.06-2.06.94z\"/><path d=\"M17.41 7.96l-1.37-1.37c-.4-.4-.92-.59-1.43-.59-.52 0-1.04.2-1.43.59L10.3 9.45l-7.72 7.72c-.78.78-.78 2.05 0 2.83L4 21.41c.39.39.9.59 1.41.59.51 0 1.02-.2 1.41-.59l7.78-7.78 2.81-2.81c.8-.78.8-2.07 0-2.86zM5.41 20L4 18.59l7.72-7.72 1.47 1.35L5.41 20z\"/>\n",
              "  </svg>\n",
              "      </button>\n",
              "      \n",
              "  <style>\n",
              "    .colab-df-container {\n",
              "      display:flex;\n",
              "      flex-wrap:wrap;\n",
              "      gap: 12px;\n",
              "    }\n",
              "\n",
              "    .colab-df-convert {\n",
              "      background-color: #E8F0FE;\n",
              "      border: none;\n",
              "      border-radius: 50%;\n",
              "      cursor: pointer;\n",
              "      display: none;\n",
              "      fill: #1967D2;\n",
              "      height: 32px;\n",
              "      padding: 0 0 0 0;\n",
              "      width: 32px;\n",
              "    }\n",
              "\n",
              "    .colab-df-convert:hover {\n",
              "      background-color: #E2EBFA;\n",
              "      box-shadow: 0px 1px 2px rgba(60, 64, 67, 0.3), 0px 1px 3px 1px rgba(60, 64, 67, 0.15);\n",
              "      fill: #174EA6;\n",
              "    }\n",
              "\n",
              "    [theme=dark] .colab-df-convert {\n",
              "      background-color: #3B4455;\n",
              "      fill: #D2E3FC;\n",
              "    }\n",
              "\n",
              "    [theme=dark] .colab-df-convert:hover {\n",
              "      background-color: #434B5C;\n",
              "      box-shadow: 0px 1px 3px 1px rgba(0, 0, 0, 0.15);\n",
              "      filter: drop-shadow(0px 1px 2px rgba(0, 0, 0, 0.3));\n",
              "      fill: #FFFFFF;\n",
              "    }\n",
              "  </style>\n",
              "\n",
              "      <script>\n",
              "        const buttonEl =\n",
              "          document.querySelector('#df-68bac3f4-b14a-46bc-bf47-96b6e690964c button.colab-df-convert');\n",
              "        buttonEl.style.display =\n",
              "          google.colab.kernel.accessAllowed ? 'block' : 'none';\n",
              "\n",
              "        async function convertToInteractive(key) {\n",
              "          const element = document.querySelector('#df-68bac3f4-b14a-46bc-bf47-96b6e690964c');\n",
              "          const dataTable =\n",
              "            await google.colab.kernel.invokeFunction('convertToInteractive',\n",
              "                                                     [key], {});\n",
              "          if (!dataTable) return;\n",
              "\n",
              "          const docLinkHtml = 'Like what you see? Visit the ' +\n",
              "            '<a target=\"_blank\" href=https://colab.research.google.com/notebooks/data_table.ipynb>data table notebook</a>'\n",
              "            + ' to learn more about interactive tables.';\n",
              "          element.innerHTML = '';\n",
              "          dataTable['output_type'] = 'display_data';\n",
              "          await google.colab.output.renderOutput(dataTable, element);\n",
              "          const docLink = document.createElement('div');\n",
              "          docLink.innerHTML = docLinkHtml;\n",
              "          element.appendChild(docLink);\n",
              "        }\n",
              "      </script>\n",
              "    </div>\n",
              "  </div>\n",
              "  "
            ]
          },
          "metadata": {},
          "execution_count": 41
        }
      ]
    },
    {
      "cell_type": "code",
      "source": [
        "fig = plt.figure(figsize=(14,6))\n",
        "x_scale=results['param_class_weight']\n",
        "plt.plot([i[1] for i in x_scale],results['mean_test_precision'],'g--+',label='precsion')\n",
        "plt.plot([i[1] for i in x_scale],results['mean_test_recall'],'r-s',label='recall')\n",
        "plt.plot([i[1] for i in x_scale],results['mean_test_compare'],'b-.>',label='compare')\n",
        "plt.xlabel('class_weight')\n",
        "plt.ylabel('score')\n",
        "\n",
        "plt.legend()\n",
        "plt.show()"
      ],
      "metadata": {
        "id": "DVV2PYCHKblA",
        "colab": {
          "base_uri": "https://localhost:8080/",
          "height": 389
        },
        "outputId": "4fb28fc6-40ea-4351-8166-3ece9787b0f5"
      },
      "execution_count": 50,
      "outputs": [
        {
          "output_type": "display_data",
          "data": {
            "text/plain": [
              "<Figure size 1008x432 with 1 Axes>"
            ],
            "image/png": "[encoded data removed]"
          },
          "metadata": {
            "needs_background": "light"
          }
        }
      ]
    },
    {
      "cell_type": "code",
      "source": [
        "grid_decision_tree = GridSearchCV(\n",
        "    estimator=DecisionTreeClassifier(),\n",
        "    param_grid={\n",
        "        'class_weight':[{0:1,1:v} for v in np.linspace(1,20,30)],\n",
        "        #'max_depth':[5,6,7,8,9,10,11,12],\n",
        "    },\n",
        "    cv = 5,\n",
        "    scoring = {'precision':make_scorer(precision_score),'recall':make_scorer(recall_score),'compare':(compare_precision_recall_)},\n",
        "    refit = 'compare',\n",
        ")"
      ],
      "metadata": {
        "id": "j3yNXhmhWPc-"
      },
      "execution_count": 44,
      "outputs": []
    },
    {
      "cell_type": "code",
      "source": [
        "grid_ds = grid_decision_tree.fit(X_train,y_train)"
      ],
      "metadata": {
        "id": "DJxr4PxqYmAU"
      },
      "execution_count": 45,
      "outputs": []
    },
    {
      "cell_type": "code",
      "source": [
        "grid_decision_tree.get_params()"
      ],
      "metadata": {
        "id": "KothkL1dMOWE"
      },
      "execution_count": null,
      "outputs": []
    },
    {
      "cell_type": "code",
      "source": [
        "results_2 = pd.DataFrame(grid_decision_tree.cv_results_)"
      ],
      "metadata": {
        "id": "21wBo1MoYtZX"
      },
      "execution_count": 48,
      "outputs": []
    },
    {
      "cell_type": "code",
      "source": [
        "grid_ds.best_params_"
      ],
      "metadata": {
        "colab": {
          "base_uri": "https://localhost:8080/"
        },
        "id": "aYIGn1FyY5dr",
        "outputId": "960e13bb-d6ca-477d-ba3e-3392b4806406"
      },
      "execution_count": 47,
      "outputs": [
        {
          "output_type": "execute_result",
          "data": {
            "text/plain": [
              "{'class_weight': {0: 1, 1: 1.0}}"
            ]
          },
          "metadata": {},
          "execution_count": 47
        }
      ]
    },
    {
      "cell_type": "code",
      "source": [
        "fig = plt.figure(figsize=(14,6))\n",
        "for scoring in ['mean_test_precision','mean_test_recall','mean_test_compare']:\n",
        "  plt.plot([_[1] for _ in results_2['param_class_weight']],results_2[scoring],label=scoring)\n",
        "plt.xlabel('class_weight')\n",
        "plt.ylabel('score')\n",
        "plt.legend()\n",
        "plt.show()"
      ],
      "metadata": {
        "colab": {
          "base_uri": "https://localhost:8080/",
          "height": 389
        },
        "id": "TcBnwZcc5wXT",
        "outputId": "f73d3bc4-10f4-4cc2-a205-6198b4cb14d6"
      },
      "execution_count": 49,
      "outputs": [
        {
          "output_type": "display_data",
          "data": {
            "text/plain": [
              "<Figure size 1008x432 with 1 Axes>"
            ],
            "image/png": "[encoded data removed]"
          },
          "metadata": {
            "needs_background": "light"
          }
        }
      ]
    },
    {
      "cell_type": "code",
      "source": [
        "from sklearn.tree import plot_tree\n",
        "DSt = DecisionTreeClassifier(class_weight={0:1,1:4},max_depth=8)\n",
        "DSt.fit(X_train,y_train)\n",
        "#DSt.predict(X_test)"
      ],
      "metadata": {
        "colab": {
          "base_uri": "https://localhost:8080/"
        },
        "id": "wY_-oJx6T67D",
        "outputId": "954f85ef-0787-44f2-e907-eee2e6c9667d"
      },
      "execution_count": 51,
      "outputs": [
        {
          "output_type": "execute_result",
          "data": {
            "text/plain": [
              "DecisionTreeClassifier(class_weight={0: 1, 1: 4}, max_depth=8)"
            ]
          },
          "metadata": {},
          "execution_count": 51
        }
      ]
    },
    {
      "cell_type": "code",
      "source": [
        "DSt.get_n_leaves()"
      ],
      "metadata": {
        "colab": {
          "base_uri": "https://localhost:8080/"
        },
        "id": "QpxaBBz_yL0j",
        "outputId": "3e4d0f54-0deb-4f47-ae02-a992f7150d0e"
      },
      "execution_count": null,
      "outputs": [
        {
          "output_type": "execute_result",
          "data": {
            "text/plain": [
              "128"
            ]
          },
          "metadata": {},
          "execution_count": 42
        }
      ]
    },
    {
      "cell_type": "code",
      "source": [
        "fig = plt.figure(figsize=(14,9))\n",
        "plot_tree(DSt)"
      ],
      "metadata": {
        "id": "PSx0nVfoU26K"
      },
      "execution_count": null,
      "outputs": []
    },
    {
      "cell_type": "markdown",
      "source": [
        "# XGB"
      ],
      "metadata": {
        "id": "CUbRaKjBmxeL"
      }
    },
    {
      "cell_type": "code",
      "source": [
        "xgb = XGBClassifier(n_estimators=100)"
      ],
      "metadata": {
        "id": "TF_vMvekmz4l"
      },
      "execution_count": null,
      "outputs": []
    },
    {
      "cell_type": "code",
      "source": [
        "xgb.fit(X_train,y_train)"
      ],
      "metadata": {
        "colab": {
          "base_uri": "https://localhost:8080/"
        },
        "id": "3TCriRounP7j",
        "outputId": "bd852e6a-dfc2-4e08-8458-b2bf9c272f8d"
      },
      "execution_count": null,
      "outputs": [
        {
          "output_type": "execute_result",
          "data": {
            "text/plain": [
              "XGBClassifier()"
            ]
          },
          "metadata": {},
          "execution_count": 27
        }
      ]
    },
    {
      "cell_type": "code",
      "source": [
        "pred = xgb.predict(X_test)"
      ],
      "metadata": {
        "id": "KItAs1FFnkjC"
      },
      "execution_count": null,
      "outputs": []
    },
    {
      "cell_type": "code",
      "source": [
        "print(accuracy_score(y_test,pred))"
      ],
      "metadata": {
        "colab": {
          "base_uri": "https://localhost:8080/"
        },
        "id": "nusx46brnrqm",
        "outputId": "f774ac64-b04c-42da-b8c3-00b17872ef9a"
      },
      "execution_count": null,
      "outputs": [
        {
          "output_type": "stream",
          "name": "stdout",
          "text": [
            "0.8374512353706112\n"
          ]
        }
      ]
    },
    {
      "cell_type": "markdown",
      "source": [
        "# SGD"
      ],
      "metadata": {
        "id": "CaPQlW0tKLrN"
      }
    },
    {
      "cell_type": "code",
      "source": [
        "sgd = SGDClassifier(random_state=100)\n",
        "sgd.fit(X_train,y_train)"
      ],
      "metadata": {
        "colab": {
          "base_uri": "https://localhost:8080/"
        },
        "id": "dSBFcC51gI7Z",
        "outputId": "b32e3b6d-b7a6-4588-b976-1ad04ca1864c"
      },
      "execution_count": null,
      "outputs": [
        {
          "output_type": "execute_result",
          "data": {
            "text/plain": [
              "SGDClassifier(random_state=100)"
            ]
          },
          "metadata": {},
          "execution_count": 131
        }
      ]
    },
    {
      "cell_type": "code",
      "source": [
        "pred = sgd.predict(X_test)\n",
        "print(accuracy_score(y_test,pred))\n",
        "print(precision_score(y_test,pred))\n",
        "print(recall_score(y_test,pred))"
      ],
      "metadata": {
        "colab": {
          "base_uri": "https://localhost:8080/"
        },
        "id": "hHCvXMyughvt",
        "outputId": "89a14f5e-38d8-4668-af13-342f72d594df"
      },
      "execution_count": null,
      "outputs": [
        {
          "output_type": "stream",
          "name": "stdout",
          "text": [
            "0.8057971014492754\n",
            "0.8116883116883117\n",
            "0.4208754208754209\n"
          ]
        }
      ]
    },
    {
      "cell_type": "code",
      "source": [
        "y_scores = cross_val_predict(sgd, X_train, y_train, cv=3,method='decision_function')"
      ],
      "metadata": {
        "id": "hdZocgRJmtqJ"
      },
      "execution_count": null,
      "outputs": []
    },
    {
      "cell_type": "code",
      "source": [
        "y_scores"
      ],
      "metadata": {
        "colab": {
          "base_uri": "https://localhost:8080/"
        },
        "id": "vfV8hrG-v--S",
        "outputId": "3a327d1e-c559-4b27-f5bc-f6db67cb1a03"
      },
      "execution_count": null,
      "outputs": [
        {
          "output_type": "execute_result",
          "data": {
            "text/plain": [
              "array([  1221.55750681, -15163.34128899,    694.10660409, ...,\n",
              "        -3387.97458363,  -3476.13519723,  -5928.42865919])"
            ]
          },
          "metadata": {},
          "execution_count": 179
        }
      ]
    },
    {
      "cell_type": "code",
      "source": [
        "a,b,c=precision_recall_curve(y_train,y_scores)"
      ],
      "metadata": {
        "id": "-MGrmNI9k-U6"
      },
      "execution_count": null,
      "outputs": []
    },
    {
      "cell_type": "code",
      "source": [
        "c.shape"
      ],
      "metadata": {
        "colab": {
          "base_uri": "https://localhost:8080/"
        },
        "id": "9DpHcBkOBog2",
        "outputId": "ce410645-e964-497d-a10c-57f0b29eabcd"
      },
      "execution_count": null,
      "outputs": [
        {
          "output_type": "execute_result",
          "data": {
            "text/plain": [
              "(3677,)"
            ]
          },
          "metadata": {},
          "execution_count": 190
        }
      ]
    },
    {
      "cell_type": "code",
      "source": [
        "plt.plot(c,a[:-1],'g--')\n",
        "plt.plot(c,b[:-1],'b-')"
      ],
      "metadata": {
        "colab": {
          "base_uri": "https://localhost:8080/",
          "height": 282
        },
        "id": "GYDu9xt1wrfn",
        "outputId": "5d1a00f1-3606-4e1c-c56c-20d3f196fee2"
      },
      "execution_count": null,
      "outputs": [
        {
          "output_type": "execute_result",
          "data": {
            "text/plain": [
              "[<matplotlib.lines.Line2D at 0x7fb9b995e590>]"
            ]
          },
          "metadata": {},
          "execution_count": 188
        },
        {
          "output_type": "display_data",
          "data": {
            "text/plain": [
              "<Figure size 432x288 with 1 Axes>"
            ],
            "image/png": "[encoded data removed]"
          },
          "metadata": {
            "needs_background": "light"
          }
        }
      ]
    },
    {
      "cell_type": "code",
      "source": [],
      "metadata": {
        "id": "r1G19B8qKT_z"
      },
      "execution_count": null,
      "outputs": []
    }
  ]
}